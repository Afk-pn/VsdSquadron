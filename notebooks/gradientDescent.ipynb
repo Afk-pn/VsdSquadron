{
 "cells": [
  {
   "cell_type": "code",
   "execution_count": null,
   "id": "a138d458-2af9-4d96-a75e-6badee7ec830",
   "metadata": {},
   "outputs": [],
   "source": []
  },
  {
   "cell_type": "code",
   "execution_count": 1,
   "id": "3c042386-f87e-48a9-9feb-ba48656c77f7",
   "metadata": {},
   "outputs": [
    {
     "name": "stdout",
     "output_type": "stream",
     "text": [
      "    Hours  Scores\n",
      "0     2.5      21\n",
      "1     5.1      47\n",
      "2     3.2      27\n",
      "3     8.5      75\n",
      "4     3.5      30\n",
      "5     1.5      20\n",
      "6     9.2      88\n",
      "7     5.5      60\n",
      "8     8.3      81\n",
      "9     2.7      25\n",
      "10    7.7      85\n",
      "11    5.9      62\n",
      "12    4.5      41\n",
      "13    3.3      42\n",
      "14    1.1      17\n",
      "15    8.9      95\n",
      "16    2.5      30\n",
      "17    1.9      24\n",
      "18    6.1      67\n",
      "19    7.4      69\n",
      "20    2.7      30\n",
      "21    4.8      54\n",
      "22    3.8      35\n",
      "23    6.9      76\n",
      "24    7.8      86\n"
     ]
    }
   ],
   "source": [
    "import pandas as pd\n",
    "import numpy as np\n",
    "import matplotlib.pyplot as plt\n",
    "\n",
    "dataset =pd.read_csv('studentscores.csv')\n",
    "print(dataset)"
   ]
  },
  {
   "cell_type": "code",
   "execution_count": 43,
   "id": "3efa9991-d9ca-4629-b061-cbe522bee9e7",
   "metadata": {},
   "outputs": [
    {
     "name": "stdout",
     "output_type": "stream",
     "text": [
      "['.ipynb_checkpoints', 'gradientDescent.ipynb', 'studentscores.csv']\n"
     ]
    }
   ],
   "source": [
    "import os\n",
    "print (os.listdir())"
   ]
  },
  {
   "cell_type": "code",
   "execution_count": 44,
   "id": "c3448e8b-dc10-4a8c-b56a-69a3efda32a1",
   "metadata": {},
   "outputs": [
    {
     "data": {
      "image/png": "[encoded data removed]",
      "text/plain": [
       "<Figure size 640x480 with 1 Axes>"
      ]
     },
     "metadata": {},
     "output_type": "display_data"
    }
   ],
   "source": [
    "dataset =pd.read_csv('studentscores.csv')\n",
    "plt.scatter(dataset['Hours'], dataset['Scores'])\n",
    "plt.show()"
   ]
  },
  {
   "cell_type": "code",
   "execution_count": 2,
   "id": "5e3cc7d9-fc61-4a74-8a56-1a84a35ca141",
   "metadata": {},
   "outputs": [
    {
     "name": "stdout",
     "output_type": "stream",
     "text": [
      "[[2.5]\n",
      " [5.1]\n",
      " [3.2]\n",
      " [8.5]\n",
      " [3.5]\n",
      " [1.5]\n",
      " [9.2]\n",
      " [5.5]\n",
      " [8.3]\n",
      " [2.7]\n",
      " [7.7]\n",
      " [5.9]\n",
      " [4.5]\n",
      " [3.3]\n",
      " [1.1]\n",
      " [8.9]\n",
      " [2.5]\n",
      " [1.9]\n",
      " [6.1]\n",
      " [7.4]\n",
      " [2.7]\n",
      " [4.8]\n",
      " [3.8]\n",
      " [6.9]\n",
      " [7.8]]\n"
     ]
    }
   ],
   "source": [
    "X=dataset.iloc[:,:-1].values #seperating x and y columns\n",
    "Y=dataset.iloc[:,-1].values\n",
    "print(X)"
   ]
  },
  {
   "cell_type": "code",
   "execution_count": 46,
   "id": "163efffe-2819-436b-87ae-005f7db250df",
   "metadata": {},
   "outputs": [],
   "source": [
    "import numpy as np\n",
    "\n",
    "class Model:\n",
    "    def __init__(self, learning_rate, iterations):\n",
    "        # Initialize learning rate and number of iterations\n",
    "        self.learning_rate = learning_rate\n",
    "        self.iterations = iterations\n",
    "\n",
    "    def fit(self, X, Y):\n",
    "        # Store dimensions and initialize parameters\n",
    "        self.m, self.n = X.shape\n",
    "        self.slope = np.zeros(self.n)\n",
    "        self.const = 0\n",
    "        self.X = X\n",
    "        self.Y = Y\n",
    "\n",
    "        # Gradient descent loop\n",
    "        for i in range(self.iterations):\n",
    "            self.update_weights()\n",
    "\n",
    "        return self\n",
    "\n",
    "    def predict(self, X):\n",
    "        # Predict using current slope and intercept\n",
    "        return X.dot(self.slope) + self.const\n",
    "\n",
    "    def update_weights(self):\n",
    "        # Calculate predictions\n",
    "        Y_pred = self.predict(self.X)\n",
    "\n",
    "        # Compute gradients\n",
    "        dw = -(2 * self.X.T.dot(self.Y - Y_pred)) / self.m\n",
    "        db = -2 * np.sum(self.Y - Y_pred) / self.m\n",
    "\n",
    "        # Update parameters\n",
    "        self.slope = self.slope - self.learning_rate * dw\n",
    "        self.const = self.const - self.learning_rate * db\n"
   ]
  },
  {
   "cell_type": "code",
   "execution_count": 48,
   "id": "1a51efa3-bd4f-4960-b637-5576af892c06",
   "metadata": {},
   "outputs": [
    {
     "data": {
      "text/plain": [
       "<__main__.Model at 0x24d9f97dd30>"
      ]
     },
     "execution_count": 48,
     "metadata": {},
     "output_type": "execute_result"
    }
   ],
   "source": [
    "model= Model(learning_rate=0.01, iterations=1000)\n",
    "model.fit(X,Y)"
   ]
  },
  {
   "cell_type": "code",
   "execution_count": 49,
   "id": "48cdc592-789d-4aae-a0ef-91d3fb0a582c",
   "metadata": {},
   "outputs": [
    {
     "name": "stdout",
     "output_type": "stream",
     "text": [
      "[26.91171724 52.33687281 33.75695143 85.58515317 36.69062323 17.13281125\n",
      " 92.43038736 56.24843521 83.62937197 28.86749844 77.76202838 60.1599976\n",
      " 46.46952922 34.73484203 13.22124886 89.49671557 26.91171724 21.04437365\n",
      " 62.1157788  74.82835658 28.86749844 49.40320102 39.62429503 69.93890359\n",
      " 78.73991898]\n"
     ]
    }
   ],
   "source": [
    "Y_pred=model.predict(X)\n",
    "print(Y_pred)"
   ]
  },
  {
   "cell_type": "code",
   "execution_count": 50,
   "id": "c31ec05e-f9bf-4cb7-8c21-7c84622390c0",
   "metadata": {},
   "outputs": [
    {
     "data": {
      "image/png": "[encoded data removed]",
      "text/plain": [
       "<Figure size 640x480 with 1 Axes>"
      ]
     },
     "metadata": {},
     "output_type": "display_data"
    }
   ],
   "source": [
    "plt.scatter(dataset['Hours'], dataset['Scores'])\n",
    "plt.scatter(X, Y_pred, color=\"red\")\n",
    "plt.show()"
   ]
  },
  {
   "cell_type": "code",
   "execution_count": null,
   "id": "f1abea2f-d0b9-40ff-9339-5b78b5c4844d",
   "metadata": {},
   "outputs": [],
   "source": []
  }
 ],
 "metadata": {
  "kernelspec": {
   "display_name": "Python 3 (ipykernel)",
   "language": "python",
   "name": "python3"
  },
  "language_info": {
   "codemirror_mode": {
    "name": "ipython",
    "version": 3
   },
   "file_extension": ".py",
   "mimetype": "text/x-python",
   "name": "python",
   "nbconvert_exporter": "python",
   "pygments_lexer": "ipython3",
   "version": "3.13.2"
  }
 },
 "nbformat": 4,
 "nbformat_minor": 5
}
