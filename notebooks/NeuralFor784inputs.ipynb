{
 "cells": [
  {
   "cell_type": "code",
   "execution_count": 23,
   "id": "607225bf-3872-40e3-9d52-683e61a325f5",
   "metadata": {},
   "outputs": [],
   "source": [
    "from tensorflow.keras.datasets import mnist\n",
    "from sklearn.model_selection import train_test_split\n",
    "import numpy as np\n"
   ]
  },
  {
   "cell_type": "code",
   "execution_count": 24,
   "id": "598ed062-d07d-4fa0-878e-4b3fc49c4759",
   "metadata": {},
   "outputs": [],
   "source": [
    "(x_train,y_train),(x_test,y_test)=mnist.load_data()\n",
    "x_train=x_train.reshape(-1, 28*28).astype(np.float32) #flattening dataset\n",
    "x_test=x_test.reshape(-1,28*28).astype(np.float32)"
   ]
  },
  {
   "cell_type": "code",
   "execution_count": null,
   "id": "887c3b1a-706b-4233-b069-829bdcd8580d",
   "metadata": {},
   "outputs": [],
   "source": []
  },
  {
   "cell_type": "code",
   "execution_count": 25,
   "id": "c2b220ac-fa29-4dc9-887f-24934aa8c117",
   "metadata": {},
   "outputs": [],
   "source": [
    "from sklearn.neural_network import MLPClassifier\n",
    "from sklearn.metrics import accuracy_score"
   ]
  },
  {
   "cell_type": "code",
   "execution_count": 26,
   "id": "e16c8b09-3041-4944-8605-ba6dbca4d8a6",
   "metadata": {},
   "outputs": [],
   "source": [
    "mlp=MLPClassifier(hidden_layer_sizes=(64,64), activation='relu', solver='adam',max_iter=300)"
   ]
  },
  {
   "cell_type": "code",
   "execution_count": null,
   "id": "20a85ebc-2110-405d-8373-4e4a505e218e",
   "metadata": {},
   "outputs": [],
   "source": [
    "mlp.fit(x_train,y_train)"
   ]
  },
  {
   "cell_type": "code",
   "execution_count": null,
   "id": "ffca5f1b-687e-4540-8f32-9eab02d202d2",
   "metadata": {},
   "outputs": [],
   "source": [
    "y_pred=mlp.predict(x_test)"
   ]
  },
  {
   "cell_type": "code",
   "execution_count": null,
   "id": "ff88b7f7-aee2-4acd-92be-e0ad100e6735",
   "metadata": {},
   "outputs": [],
   "source": [
    "print(f\"Accuracy: {accuracy_score(y_test, y_pred):.2f}\""
   ]
  },
  {
   "cell_type": "code",
   "execution_count": null,
   "id": "399edc9f-65b0-48c6-94f4-b80f1b1ce967",
   "metadata": {},
   "outputs": [],
   "source": [
    "total_params=sum(w.size for w in mlp.coefs_)+sum(b.size for b in mlp.intercepts_)\n",
    "print(total_params)"
   ]
  },
  {
   "cell_type": "code",
   "execution_count": null,
   "id": "5fd7b6cf-2b36-47f3-b7bf-68438a48abaa",
   "metadata": {},
   "outputs": [],
   "source": [
    "x_train.shape"
   ]
  }
 ],
 "metadata": {
  "kernelspec": {
   "display_name": "Python 3 (ipykernel)",
   "language": "python",
   "name": "python3"
  },
  "language_info": {
   "codemirror_mode": {
    "name": "ipython",
    "version": 3
   },
   "file_extension": ".py",
   "mimetype": "text/x-python",
   "name": "python",
   "nbconvert_exporter": "python",
   "pygments_lexer": "ipython3",
   "version": "3.13.2"
  }
 },
 "nbformat": 4,
 "nbformat_minor": 5
}
